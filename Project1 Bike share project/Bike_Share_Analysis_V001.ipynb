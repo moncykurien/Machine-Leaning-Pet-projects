{
 "cells": [
  {
   "cell_type": "markdown",
   "metadata": {},
   "source": [
    "# 2016 US Bike Share Activity Snapshot\n",
    "\n",
    "## Table of Contents\n",
    "- [Introduction](#intro)\n",
    "- [Posing Questions](#pose_questions)\n",
    "- [Data Collection and Wrangling](#wrangling)\n",
    "  - [Condensing the Trip Data](#condensing)\n",
    "- [Exploratory Data Analysis](#eda)\n",
    "  - [Statistics](#statistics)\n",
    "  - [Visualizations](#visualizations)\n",
    "- [Performing Your Own Analysis](#eda_continued)\n",
    "- [Conclusions](#conclusions)\n",
    "\n",
    "\n",
    "<a id='intro'></a>\n",
    "## Introduction\n",
    "\n",
    "> **Tip**: Quoted sections like this will provide helpful instructions on how to navigate and use a Jupyter notebook.\n",
    "\n",
    "Over the past decade, bicycle-sharing systems have been growing in number and popularity in cities across the world. Bicycle-sharing systems allow users to rent bicycles for short trips, typically 30 minutes or less. Thanks to the rise in information technologies, it is easy for a user of the system to access a dock within the system to unlock or return bicycles. These technologies also provide a wealth of data that can be used to explore how these bike-sharing systems are used.\n",
    "\n",
    "In this project, you will perform an exploratory analysis on data provided by [Motivate](https://www.motivateco.com/), a bike-share system provider for many major cities in the United States. You will compare the system usage between three large cities: New York City, Chicago, and Washington, DC. You will also see if there are any differences within each system for those users that are registered, regular users and those users that are short-term, casual users."
   ]
  },
  {
   "cell_type": "markdown",
   "metadata": {},
   "source": [
    "<a id='pose_questions'></a>\n",
    "## Posing Questions\n",
    "\n",
    "Before looking at the bike sharing data, you should start by asking questions you might want to understand about the bike share data. Consider, for example, if you were working for Motivate. What kinds of information would you want to know about in order to make smarter business decisions? If you were a user of the bike-share service, what factors might influence how you would want to use the service?\n",
    "\n",
    "**Question 1**: Write at least two questions related to bike sharing that you think could be answered by data.\n",
    "\n",
    "**Answer**: 1. In which city do people hire more cycles.\n",
    "         '''2. Which month do people hire more cycle.\n",
    "\n",
    "> **Tip**: If you double click on this cell, you will see the text change so that all of the formatting is removed. This allows you to edit this block of text. This block of text is written using [Markdown](http://daringfireball.net/projects/markdown/syntax), which is a way to format text using headers, links, italics, and many other options using a plain-text syntax. You will also use Markdown later in the Nanodegree program. Use **Shift** + **Enter** or **Shift** + **Return** to run the cell and show its rendered form."
   ]
  },
  {
   "cell_type": "markdown",
   "metadata": {},
   "source": [
    "<a id='wrangling'></a>\n",
    "## Data Collection and Wrangling\n",
    "\n",
    "Now it's time to collect and explore our data. In this project, we will focus on the record of individual trips taken in 2016 from our selected cities: New York City, Chicago, and Washington, DC. Each of these cities has a page where we can freely download the trip data.:\n",
    "\n",
    "- New York City (Citi Bike): [Link](https://www.citibikenyc.com/system-data)\n",
    "- Chicago (Divvy): [Link](https://www.divvybikes.com/system-data)\n",
    "- Washington, DC (Capital Bikeshare): [Link](https://www.capitalbikeshare.com/system-data)\n",
    "\n",
    "If you visit these pages, you will notice that each city has a different way of delivering its data. Chicago updates with new data twice a year, Washington DC is quarterly, and New York City is monthly. **However, you do not need to download the data yourself.** The data has already been collected for you in the `/data/` folder of the project files. While the original data for 2016 is spread among multiple files for each city, the files in the `/data/` folder collect all of the trip data for the year into one file per city. Some data wrangling of inconsistencies in timestamp format within each city has already been performed for you. In addition, a random 2% sample of the original data is taken to make the exploration more manageable. \n",
    "\n",
    "**Question 2**: However, there is still a lot of data for us to investigate, so it's a good idea to start off by looking at one entry from each of the cities we're going to analyze. Run the first code cell below to load some packages and functions that you'll be using in your analysis. Then, complete the second code cell to print out the first trip recorded from each of the cities (the second line of each data file).\n",
    "\n",
    "> **Tip**: You can run a code cell like you formatted Markdown cells above by clicking on the cell and using the keyboard shortcut **Shift** + **Enter** or **Shift** + **Return**. Alternatively, a code cell can be executed using the **Play** button in the toolbar after selecting it. While the cell is running, you will see an asterisk in the message to the left of the cell, i.e. `In [*]:`. The asterisk will change into a number to show that execution has completed, e.g. `In [1]`. If there is output, it will show up as `Out [1]:`, with an appropriate number to match the \"In\" number."
   ]
  },
  {
   "cell_type": "code",
   "execution_count": 105,
   "metadata": {},
   "outputs": [],
   "source": [
    "## import all necessary packages and functions.\n",
    "import csv # read and write csv files\n",
    "from datetime import datetime # operations to parse dates\n",
    "from pprint import pprint # use to print data structures like dictionaries in\n",
    "                          # a nicer way than the base print function.\n",
    "from datetime import datetime #parse and format the date and time"
   ]
  },
  {
   "cell_type": "code",
   "execution_count": 106,
   "metadata": {},
   "outputs": [
    {
     "name": "stdout",
     "output_type": "stream",
     "text": [
      "\n",
      "City: NYC\n",
      "OrderedDict([('tripduration', '839'),\n",
      "             ('starttime', '1/1/2016 00:09:55'),\n",
      "             ('stoptime', '1/1/2016 00:23:54'),\n",
      "             ('start station id', '532'),\n",
      "             ('start station name', 'S 5 Pl & S 4 St'),\n",
      "             ('start station latitude', '40.710451'),\n",
      "             ('start station longitude', '-73.960876'),\n",
      "             ('end station id', '401'),\n",
      "             ('end station name', 'Allen St & Rivington St'),\n",
      "             ('end station latitude', '40.72019576'),\n",
      "             ('end station longitude', '-73.98997825'),\n",
      "             ('bikeid', '17109'),\n",
      "             ('usertype', 'Customer'),\n",
      "             ('birth year', ''),\n",
      "             ('gender', '0')])\n",
      "\n",
      "City: Chicago\n",
      "OrderedDict([('trip_id', '9080545'),\n",
      "             ('starttime', '3/31/2016 23:30'),\n",
      "             ('stoptime', '3/31/2016 23:46'),\n",
      "             ('bikeid', '2295'),\n",
      "             ('tripduration', '926'),\n",
      "             ('from_station_id', '156'),\n",
      "             ('from_station_name', 'Clark St & Wellington Ave'),\n",
      "             ('to_station_id', '166'),\n",
      "             ('to_station_name', 'Ashland Ave & Wrightwood Ave'),\n",
      "             ('usertype', 'Subscriber'),\n",
      "             ('gender', 'Male'),\n",
      "             ('birthyear', '1990')])\n",
      "\n",
      "City: Washington\n",
      "OrderedDict([('Duration (ms)', '427387'),\n",
      "             ('Start date', '3/31/2016 22:57'),\n",
      "             ('End date', '3/31/2016 23:04'),\n",
      "             ('Start station number', '31602'),\n",
      "             ('Start station', 'Park Rd & Holmead Pl NW'),\n",
      "             ('End station number', '31207'),\n",
      "             ('End station', 'Georgia Ave and Fairmont St NW'),\n",
      "             ('Bike number', 'W20842'),\n",
      "             ('Member Type', 'Registered')])\n"
     ]
    }
   ],
   "source": [
    "def print_first_point(filename):\n",
    "    \"\"\"\n",
    "    This function prints and returns the first data point (second row) from\n",
    "    a csv file that includes a header row.\n",
    "    \"\"\"\n",
    "    # print city name for reference\n",
    "    city = filename.split('-')[0].split('/')[-1]\n",
    "    print('\\nCity: {}'.format(city))\n",
    "    \n",
    "    with open(filename, 'r') as f_in:\n",
    "        ## TODO: Use the csv library to set up a DictReader object. ##\n",
    "        ## see https://docs.python.org/3/library/csv.html           ##\n",
    "        trip_reader = csv.DictReader(f_in)\n",
    "        \n",
    "        ## TODO: Use a function on the DictReader object to read the     ##\n",
    "        ## first trip from the data file and store it in a variable.     ##\n",
    "        ## see https://docs.python.org/3/library/csv.html#reader-objects ##\n",
    "        first_trip = next(trip_reader)\n",
    "        \n",
    "        ## TODO: Use the pprint library to print the first trip. ##\n",
    "        ## see https://docs.python.org/3/library/pprint.html     ##\n",
    "        pprint(first_trip)\n",
    "    \n",
    "    # output city name and first trip for later testing\n",
    "    return (city, first_trip)\n",
    "\n",
    "# list of files for each city\n",
    "data_files = ['./data/NYC-CitiBike-2016.csv',\n",
    "              './data/Chicago-Divvy-2016.csv',\n",
    "              './data/Washington-CapitalBikeshare-2016.csv',]\n",
    "\n",
    "# print the first trip from each file, store in dictionary\n",
    "example_trips = {}\n",
    "for data_file in data_files:\n",
    "    city, first_trip = print_first_point(data_file)\n",
    "    example_trips[city] = first_trip"
   ]
  },
  {
   "cell_type": "markdown",
   "metadata": {},
   "source": [
    "If everything has been filled out correctly, you should see below the printout of each city name (which has been parsed from the data file name) that the first trip has been parsed in the form of a dictionary. When you set up a `DictReader` object, the first row of the data file is normally interpreted as column names. Every other row in the data file will use those column names as keys, as a dictionary is generated for each row.\n",
    "\n",
    "This will be useful since we can refer to quantities by an easily-understandable label instead of just a numeric index. For example, if we have a trip stored in the variable `row`, then we would rather get the trip duration from `row['duration']` instead of `row[0]`.\n",
    "\n",
    "<a id='condensing'></a>\n",
    "### Condensing the Trip Data\n",
    "\n",
    "It should also be observable from the above printout that each city provides different information. Even where the information is the same, the column names and formats are sometimes different. To make things as simple as possible when we get to the actual exploration, we should trim and clean the data. Cleaning the data makes sure that the data formats across the cities are consistent, while trimming focuses only on the parts of the data we are most interested in to make the exploration easier to work with.\n",
    "\n",
    "You will generate new data files with five values of interest for each trip: trip duration, starting month, starting hour, day of the week, and user type. Each of these may require additional wrangling depending on the city:\n",
    "\n",
    "- **Duration**: This has been given to us in seconds (New York, Chicago) or milliseconds (Washington). A more natural unit of analysis will be if all the trip durations are given in terms of minutes.\n",
    "- **Month**, **Hour**, **Day of Week**: Ridership volume is likely to change based on the season, time of day, and whether it is a weekday or weekend. Use the start time of the trip to obtain these values. The New York City data includes the seconds in their timestamps, while Washington and Chicago do not. The [`datetime`](https://docs.python.org/3/library/datetime.html) package will be very useful here to make the needed conversions.\n",
    "- **User Type**: It is possible that users who are subscribed to a bike-share system will have different patterns of use compared to users who only have temporary passes. Washington divides its users into two types: 'Registered' for users with annual, monthly, and other longer-term subscriptions, and 'Casual', for users with 24-hour, 3-day, and other short-term passes. The New York and Chicago data uses 'Subscriber' and 'Customer' for these groups, respectively. For consistency, you will convert the Washington labels to match the other two.\n",
    "\n",
    "\n",
    "**Question 3a**: Complete the helper functions in the code cells below to address each of the cleaning tasks described above."
   ]
  },
  {
   "cell_type": "code",
   "execution_count": 107,
   "metadata": {},
   "outputs": [],
   "source": [
    "def duration_in_mins(datum, city):\n",
    "    \"\"\"\n",
    "    Takes as input a dictionary containing info about a single trip (datum) and\n",
    "    its origin city (city) and returns the trip duration in units of minutes.\n",
    "    \n",
    "    Remember that Washington is in terms of milliseconds while Chicago and NYC\n",
    "    are in terms of seconds. \n",
    "    \n",
    "    HINT: The csv module reads in all of the data as strings, including numeric\n",
    "    values. You will need a function to convert the strings into an appropriate\n",
    "    numeric type when making your transformations.\n",
    "    see https://docs.python.org/3/library/functions.html\n",
    "    \"\"\"\n",
    "    \n",
    "    if city == 'Washington':\n",
    "        duration = round(((int((datum['Duration (ms)'])) / 1000) / 60),4)\n",
    "    elif city in('Chicago','NYC'):\n",
    "        duration = round(((int(datum['tripduration'])) / 60),4)\n",
    "    return duration\n",
    "\n",
    "\n",
    "# Some tests to check that your code works. There should be no output if all of\n",
    "# the assertions pass. The `example_trips` dictionary was obtained from when\n",
    "# you printed the first trip from each of the original data files.\n",
    "tests = {'NYC': 13.9833,\n",
    "         'Chicago': 15.4333,\n",
    "         'Washington': 7.1231}\n",
    "\n",
    "for city in tests:\n",
    "    assert abs(duration_in_mins(example_trips[city], city) - tests[city]) < .001,\"The value returned by duration_in_mins() is wrong. Contact the developer\"\n"
   ]
  },
  {
   "cell_type": "code",
   "execution_count": 108,
   "metadata": {},
   "outputs": [],
   "source": [
    "def time_of_trip(datum, city):\n",
    "    \"\"\"\n",
    "    Takes as input a dictionary containing info about a single trip (datum) and\n",
    "    its origin city (city) and returns the month, hour, and day of the week in\n",
    "    which the trip was made.\n",
    "    \n",
    "    Remember that NYC includes seconds, while Washington and Chicago do not.\n",
    "    \n",
    "    HINT: You should use the datetime module to parse the original date\n",
    "    strings into a format that is useful for extracting the desired information.\n",
    "    see https://docs.python.org/3/library/datetime.html#strftime-and-strptime-behavior\n",
    "    \"\"\"\n",
    "    # YOUR CODE HERE\n",
    "    \n",
    "    if city in('Chicago', 'NYC'):\n",
    "        timestamp = datum['starttime']\n",
    "    elif city == 'Washington':\n",
    "        timestamp = datum['Start date']\n",
    "    \n",
    "    if city in('Chicago','Washington'):\n",
    "        date_obj = datetime.strptime(timestamp, '%m/%d/%Y %H:%M')\n",
    "    elif city == 'NYC':\n",
    "        date_obj = datetime.strptime(timestamp, '%m/%d/%Y %H:%M:%S')\n",
    "    \n",
    "    month, hour, day_of_week = int(datetime.strftime(date_obj,'%m')),int(datetime.strftime(date_obj,'%H')),datetime.strftime(date_obj, '%A')\n",
    "        \n",
    "    return (month, hour, day_of_week)\n",
    "\n",
    "# Some tests to check that your code works. There should be no output if all of\n",
    "# the assertions pass. The `example_trips` dictionary was obtained from when\n",
    "# you printed the first trip from each of the original data files.\n",
    "tests = {'NYC': (1, 0, 'Friday'),\n",
    "         'Chicago': (3, 23, 'Thursday'),\n",
    "         'Washington': (3, 22, 'Thursday')}\n",
    "\n",
    "for city in tests:\n",
    "    assert time_of_trip(example_trips[city], city) == tests[city], 'The result is not correct. Please contact the developer'\n"
   ]
  },
  {
   "cell_type": "code",
   "execution_count": 109,
   "metadata": {},
   "outputs": [],
   "source": [
    "def type_of_user(datum, city):\n",
    "    \"\"\"\n",
    "    Takes as input a dictionary containing info about a single trip (datum) and\n",
    "    its origin city (city) and returns the type of system user that made the\n",
    "    trip.\n",
    "    \n",
    "    Remember that Washington has different category names compared to Chicago\n",
    "    and NYC. \n",
    "    \"\"\"\n",
    "    if city in('NYC','Chicago'):\n",
    "        user_type = datum['usertype']\n",
    "    else:\n",
    "        user = datum['Member Type']\n",
    "        if user == 'Registered':\n",
    "            user_type = 'Subscriber'\n",
    "        else:\n",
    "            user_type = 'Customer'\n",
    "    \n",
    "    return user_type\n",
    "\n",
    "\n",
    "# Some tests to check that your code works. There should be no output if all of\n",
    "# the assertions pass. The `example_trips` dictionary was obtained from when\n",
    "# you printed the first trip from each of the original data files.\n",
    "tests = {'NYC': 'Customer',\n",
    "         'Chicago': 'Subscriber',\n",
    "         'Washington': 'Subscriber'}\n",
    "\n",
    "for city in tests:\n",
    "    assert type_of_user(example_trips[city], city) == tests[city], \"The output is wrong. Please contact your developer.\""
   ]
  },
  {
   "cell_type": "markdown",
   "metadata": {},
   "source": [
    "**Question 3b**: Now, use the helper functions you wrote above to create a condensed data file for each city consisting only of the data fields indicated above. In the `/examples/` folder, you will see an example datafile from the [Bay Area Bike Share](http://www.bayareabikeshare.com/open-data) before and after conversion. Make sure that your output is formatted to be consistent with the example file."
   ]
  },
  {
   "cell_type": "code",
   "execution_count": 110,
   "metadata": {},
   "outputs": [],
   "source": [
    "def condense_data(in_file, out_file, city):\n",
    "    \"\"\"\n",
    "    This function takes full data from the specified input file\n",
    "    and writes the condensed data to a specified output file. The city\n",
    "    argument determines how the input file will be parsed.\n",
    "    \n",
    "    HINT: See the cell below to see how the arguments are structured!\n",
    "    \"\"\"\n",
    "    \n",
    "    with open(out_file, 'w') as f_out, open(in_file, 'r') as f_in:\n",
    "        # set up csv DictWriter object - writer requires column names for the\n",
    "        # first row as the \"fieldnames\" argument\n",
    "        out_colnames = ['duration', 'month', 'hour', 'day_of_week', 'user_type']        \n",
    "        trip_writer = csv.DictWriter(f_out, fieldnames = out_colnames)\n",
    "        trip_writer.writeheader()\n",
    "        \n",
    "        ## TODO: set up csv DictReader object ##\n",
    "        trip_reader = csv.DictReader(f_in)\n",
    "\n",
    "        # collect data from and process each row\n",
    "        for row in trip_reader:\n",
    "            # set up a dictionary to hold the values for the cleaned and trimmed\n",
    "            # data point\n",
    "            new_point = {}\n",
    "\n",
    "            ## TODO: use the helper functions to get the cleaned data from  ##\n",
    "            ## the original data dictionaries.                              ##\n",
    "            ## Note that the keys for the new_point dictionary should match ##\n",
    "            ## the column names set in the DictWriter object above.         ##\n",
    "            new_point['duration'] = duration_in_mins(row, city)\n",
    "            new_point['month'],new_point['hour'],new_point['day_of_week'] = time_of_trip(row, city)\n",
    "            new_point['user_type'] = type_of_user(row, city)\n",
    "         \n",
    "            ## TODO: write the processed information to the output file.     ##\n",
    "            ## see https://docs.python.org/3/library/csv.html#writer-objects ##\n",
    "            \n",
    "            trip_writer.writerow(new_point)\n",
    "            \n",
    "            \n",
    "            "
   ]
  },
  {
   "cell_type": "code",
   "execution_count": 111,
   "metadata": {},
   "outputs": [
    {
     "name": "stdout",
     "output_type": "stream",
     "text": [
      "\n",
      "City: Washington\n",
      "OrderedDict([('duration', '7.1231'),\n",
      "             ('month', '3'),\n",
      "             ('hour', '22'),\n",
      "             ('day_of_week', 'Thursday'),\n",
      "             ('user_type', 'Subscriber')])\n",
      "\n",
      "City: Chicago\n",
      "OrderedDict([('duration', '15.4333'),\n",
      "             ('month', '3'),\n",
      "             ('hour', '23'),\n",
      "             ('day_of_week', 'Thursday'),\n",
      "             ('user_type', 'Subscriber')])\n",
      "\n",
      "City: NYC\n",
      "OrderedDict([('duration', '13.9833'),\n",
      "             ('month', '1'),\n",
      "             ('hour', '0'),\n",
      "             ('day_of_week', 'Friday'),\n",
      "             ('user_type', 'Customer')])\n"
     ]
    }
   ],
   "source": [
    "# Run this cell to check your work\n",
    "city_info = {'Washington': {'in_file': './data/Washington-CapitalBikeshare-2016.csv',\n",
    "                            'out_file': './data/Washington-2016-Summary.csv'},\n",
    "             'Chicago': {'in_file': './data/Chicago-Divvy-2016.csv',\n",
    "                         'out_file': './data/Chicago-2016-Summary.csv'},\n",
    "             'NYC': {'in_file': './data/NYC-CitiBike-2016.csv',\n",
    "                     'out_file': './data/NYC-2016-Summary.csv'}}\n",
    "\n",
    "for city, filenames in city_info.items():\n",
    "    condense_data(filenames['in_file'], filenames['out_file'], city)\n",
    "    print_first_point(filenames['out_file'])"
   ]
  },
  {
   "cell_type": "markdown",
   "metadata": {},
   "source": [
    "> **Tip**: If you save a jupyter Notebook, the output from running code blocks will also be saved. However, the state of your workspace will be reset once a new session is started. Make sure that you run all of the necessary code blocks from your previous session to reestablish variables and functions before picking up where you last left off.\n",
    "\n",
    "<a id='eda'></a>\n",
    "## Exploratory Data Analysis\n",
    "\n",
    "Now that you have the data collected and wrangled, you're ready to start exploring the data. In this section you will write some code to compute descriptive statistics from the data. You will also be introduced to the `matplotlib` library to create some basic histograms of the data.\n",
    "\n",
    "<a id='statistics'></a>\n",
    "### Statistics\n",
    "\n",
    "First, let's compute some basic counts. The first cell below contains a function that uses the csv module to iterate through a provided data file, returning the number of trips made by subscribers and customers. The second cell runs this function on the example Bay Area data in the `/examples/` folder. Modify the cells to answer the question below.\n",
    "\n",
    "**Question 4a**: Which city has the highest number of trips? Which city has the highest proportion of trips made by subscribers? Which city has the highest proportion of trips made by short-term customers?\n",
    "\n",
    "**Answer**: NYC has the highest number of trips. Total no of trips in NYC is **276798**.<Br>NYC has the highest proportion of trips made by subscibers with **88.84%** of its trips made by subscribers in NYC.<Br>Chicago has the highest proportion of trips made by short-term customers with **23.77%** of its trips made by short-term customers in Chicago."
   ]
  },
  {
   "cell_type": "code",
   "execution_count": 112,
   "metadata": {},
   "outputs": [],
   "source": [
    "def number_of_trips(filename):\n",
    "    \"\"\"\n",
    "    This function reads in a file with trip data and reports the number of\n",
    "    trips made by subscribers, customers, and total overall.\n",
    "    \"\"\"\n",
    "    with open(filename, 'r') as f_in:\n",
    "        # set up csv reader object\n",
    "        reader = csv.DictReader(f_in)\n",
    "        \n",
    "        # initialize count variables\n",
    "        n_subscribers = 0\n",
    "        n_customers = 0\n",
    "        \n",
    "        # tally up ride types\n",
    "        for row in reader:\n",
    "            if row['user_type'] == 'Subscriber':\n",
    "                n_subscribers += 1\n",
    "            else:\n",
    "                n_customers += 1\n",
    "        \n",
    "        # compute total number of rides\n",
    "        n_total = n_subscribers + n_customers\n",
    "        \n",
    "        # return tallies as a tuple\n",
    "        return(n_subscribers, n_customers, n_total)"
   ]
  },
  {
   "cell_type": "code",
   "execution_count": 113,
   "metadata": {},
   "outputs": [
    {
     "name": "stdout",
     "output_type": "stream",
     "text": [
      "For the City: Chicago\n",
      "No of subscribers: 54982\n",
      "No of Customers: 17149\n",
      "Total no of trips: 72131Proportion of trips made by subscribers: 76.23%\n",
      "Proportion of trips made by customers: 23.77%\n",
      "\n",
      "For the City: NYC\n",
      "No of subscribers: 245896\n",
      "No of Customers: 30902\n",
      "Total no of trips: 276798Proportion of trips made by subscribers: 88.84%\n",
      "Proportion of trips made by customers: 11.16%\n",
      "\n",
      "For the City: Washington\n",
      "No of subscribers: 51753\n",
      "No of Customers: 14573\n",
      "Total no of trips: 66326Proportion of trips made by subscribers: 78.03%\n",
      "Proportion of trips made by customers: 21.97%\n",
      "\n"
     ]
    }
   ],
   "source": [
    "## Modify this and the previous cell to answer Question 4a. Remember to run ##\n",
    "## the function on the cleaned data files you created from Question 3.      ##\n",
    "\n",
    "data_files = ['./data/Chicago-2016-Summary.csv',\n",
    "              './data/NYC-2016-Summary.csv',\n",
    "              './data/Washington-2016-Summary.csv']\n",
    "for file in data_files:\n",
    "    print('For the City: '+file.split('/')[-1].split('-')[0])\n",
    "    subs,custs,total = number_of_trips(file)\n",
    "    print('No of subscribers: {}\\nNo of Customers: {}\\nTotal no of trips: {}'.format(subs,custs,total)+\n",
    "    'Proportion of trips made by subscribers: '+str(round(((subs/total)*100),2))+'%\\n'+\n",
    "    'Proportion of trips made by customers: '+str(round(((custs/total)*100),2))+'%\\n')"
   ]
  },
  {
   "cell_type": "markdown",
   "metadata": {},
   "source": [
    "> **Tip**: In order to add additional cells to a notebook, you can use the \"Insert Cell Above\" and \"Insert Cell Below\" options from the menu bar above. There is also an icon in the toolbar for adding new cells, with additional icons for moving the cells up and down the document. By default, new cells are of the code type; you can also specify the cell type (e.g. Code or Markdown) of selected cells from the Cell menu or the dropdown in the toolbar.\n",
    "\n",
    "Now, you will write your own code to continue investigating properties of the data.\n",
    "\n",
    "**Question 4b**: Bike-share systems are designed for riders to take short trips. Most of the time, users are allowed to take trips of 30 minutes or less with no additional charges, with overage charges made for trips of longer than that duration. What is the average trip length for each city? What proportion of rides made in each city are longer than 30 minutes?\n",
    "\n",
    "**Answer**: For the City: **Chicago**\n",
    "The average trip length is 16 and 8.3% of trips are longer than 30 minutes<BR>\n",
    "For the City: **NYC**\n",
    "The average trip length is 15 and 7.3% of trips are longer than 30 minutes<BR>\n",
    "For the City: **Washington**\n",
    "The average trip length is 18 and 10.8% of trips are longer than 30 minutes"
   ]
  },
  {
   "cell_type": "code",
   "execution_count": 114,
   "metadata": {},
   "outputs": [],
   "source": [
    "def get_mean_and_proportion(dictn, col_name, data_point = 500):\n",
    "    '''\n",
    "    This function will take a dictionary, a column name and a data point as input and calculate the average value of the \n",
    "    values from column col_name and the proportion of values greater than the data_point in the col_name\n",
    "    '''\n",
    "    col_value_sum = 0.0\n",
    "    data_point_sum = 0.0\n",
    "    data_length = 0\n",
    "    data_point_count = 0\n",
    "    \n",
    "    #loop through each row in the dictionary\n",
    "    for row in dictn:        \n",
    "        #get the column value\n",
    "        col_value = float(row[col_name])\n",
    "        #derive the total number of rows\n",
    "        data_length += 1\n",
    "        #calculate the sum of values in the col_value\n",
    "        col_value_sum += col_value\n",
    "        \n",
    "        #get the col_value that are greater than data_point\n",
    "        if col_value > data_point:\n",
    "            #get the numbers of trips longer than data_point minutes\n",
    "            data_point_count += 1\n",
    "        \n",
    "    #calculate the proportion    \n",
    "    proportion_calcd = round((data_point_count / data_length) * 100, 1)\n",
    "    #Calculating the average of trip durations\n",
    "    avg_col_values = col_value_sum//data_length\n",
    "    return avg_col_values, proportion_calcd"
   ]
  },
  {
   "cell_type": "code",
   "execution_count": 115,
   "metadata": {
    "scrolled": true
   },
   "outputs": [],
   "source": [
    "## Use this and additional cells to answer Question 4b.                 ##\n",
    "##                                                                      ##\n",
    "## HINT: The csv module reads in all of the data as strings, including  ##\n",
    "## numeric values. You will need a function to convert the strings      ##\n",
    "## into an appropriate numeric type before you aggregate data.          ##\n",
    "## TIP: For the Bay Area example, the average trip length is 14 minutes ##\n",
    "## and 3.5% of trips are longer than 30 minutes.                        ##\n",
    "def trip_lengths(filename):\n",
    "    '''\n",
    "    This function reads trip data from a file and calculates the average trip length and\n",
    "    derives the proportion of rides that are longer than 30 minutes\n",
    "    '''\n",
    "    #read data from the file\n",
    "    with open(filename,'r') as f_read:\n",
    "        data = csv.DictReader(f_read)\n",
    "        data1 = csv.DictReader(f_read)\n",
    "        \n",
    "        #call the mean and proportion function to get the average value and the proportions\n",
    "        avg_trip_duration,ride_prop = get_mean_and_proportion(data,'duration',30)\n",
    "        \n",
    "    #return the calculated values\n",
    "    return avg_trip_duration,ride_prop"
   ]
  },
  {
   "cell_type": "code",
   "execution_count": 116,
   "metadata": {},
   "outputs": [
    {
     "name": "stdout",
     "output_type": "stream",
     "text": [
      "For the City: BayArea\n",
      "The average trip length is 14 and 3.5% of trips are longer than 30 minutes\n",
      "For the City: Chicago\n",
      "The average trip length is 16 and 8.3% of trips are longer than 30 minutes\n",
      "For the City: NYC\n",
      "The average trip length is 15 and 7.3% of trips are longer than 30 minutes\n",
      "For the City: Washington\n",
      "The average trip length is 18 and 10.8% of trips are longer than 30 minutes\n"
     ]
    }
   ],
   "source": [
    "data_files = ['./examples/BayArea-Y3-Summary.csv'\n",
    "             ,'./data/Chicago-2016-Summary.csv'\n",
    "             ,'./data/NYC-2016-Summary.csv'\n",
    "              ,'./data/Washington-2016-Summary.csv']\n",
    "for file in data_files:\n",
    "    print('For the City: '+file.split('/')[-1].split('-')[0])\n",
    "    average,proportion = trip_lengths(file)\n",
    "    print('The average trip length is {} and {}% of trips are longer than 30 minutes'.format(str(int(average)),str(proportion)))"
   ]
  },
  {
   "cell_type": "markdown",
   "metadata": {},
   "source": [
    "**Question 4c**: Dig deeper into the question of trip duration based on ridership. Choose one city. Within that city, which type of user takes longer rides on average: Subscribers or Customers?\n",
    "\n",
    "**Answer**: In Washington city, the customers take longer rides on average than the subscribers Infact in all the cities the customers take longer rides than the subscribers"
   ]
  },
  {
   "cell_type": "code",
   "execution_count": 117,
   "metadata": {},
   "outputs": [],
   "source": [
    "def get_average(file_name):\n",
    "    '''\n",
    "    This function calculates the average trip duration of customers and subscribers\n",
    "    It gets the file name as a string input and returns tha average integer values as output\n",
    "    '''\n",
    "    subs_sum = 0.0\n",
    "    cust_sum = 0.0\n",
    "    subs_count = 0.0\n",
    "    cust_count = 0.0\n",
    "    avg_subs = 0.0\n",
    "    avg_cust = 0.0\n",
    "    \n",
    "    #open the file for reading\n",
    "    with open(file_name, 'r') as f_in:\n",
    "     #read it as a dictionary\n",
    "        reader = csv.DictReader(f_in)\n",
    "        \n",
    "        #reading through each rows in the dictionary\n",
    "        for row in reader:\n",
    "            #get the duration value\n",
    "            col_value = float(row['duration'])\n",
    "            \n",
    "            #get the sum of trip durations for subscribers and customers separately and get their counts\n",
    "            if row['user_type'] == 'Subscriber':\n",
    "                subs_sum += col_value\n",
    "                subs_count += 1\n",
    "            elif row['user_type'] == 'Customer':\n",
    "                cust_sum += col_value\n",
    "                cust_count += 1\n",
    "                \n",
    "        #get the average\n",
    "        avg_subs = round(subs_sum / subs_count,1)\n",
    "        avg_cust = round(cust_sum / cust_count,1)\n",
    "            \n",
    "        return avg_subs,avg_cust\n",
    "        \n",
    "        \n",
    "        "
   ]
  },
  {
   "cell_type": "code",
   "execution_count": 118,
   "metadata": {},
   "outputs": [
    {
     "name": "stdout",
     "output_type": "stream",
     "text": [
      "In BayArea, the average trip duration of subscribers is 9.5 and the average trip duration of customers is 54.6.\n",
      "In Chicago, the average trip duration of subscribers is 12.1 and the average trip duration of customers is 31.0.\n",
      "In NYC, the average trip duration of subscribers is 13.7 and the average trip duration of customers is 33.0.\n",
      "In Washington, the average trip duration of subscribers is 12.5 and the average trip duration of customers is 41.7.\n"
     ]
    }
   ],
   "source": [
    "## Use this and additional cells to answer Question 4c. If you have    ##\n",
    "## not done so yet, consider revising some of your previous code to    ##\n",
    "## make use of functions for reusability.                              ##\n",
    "##                                                                     ##\n",
    "## TIP: For the Bay Area example data, you should find the average     ##\n",
    "## Subscriber trip duration to be 9.5 minutes and the average Customer ##\n",
    "## trip duration to be 54.6 minutes. Do the other cities have this     ##\n",
    "## level of difference?                                                ##\n",
    "file_data = ['./examples/BayArea-Y3-Summary.csv',\n",
    "             './data/Chicago-2016-Summary.csv',\n",
    "             './data/NYC-2016-Summary.csv',\n",
    "              './data/Washington-2016-Summary.csv']\n",
    "\n",
    "for file_name in file_data:\n",
    "    city = file_name.split('/')[-1].split('-')[0]\n",
    "    subs_avg,cust_avg = get_average(file_name)\n",
    "    print('In {}, the average trip duration of subscribers is {} and the average trip duration of customers is {}.'.format(city,subs_avg,cust_avg))\n",
    "    \n"
   ]
  },
  {
   "cell_type": "markdown",
   "metadata": {},
   "source": [
    "<a id='visualizations'></a>\n",
    "### Visualizations\n",
    "\n",
    "The last set of values that you computed should have pulled up an interesting result. While the mean trip time for Subscribers is well under 30 minutes, the mean trip time for Customers is actually _above_ 30 minutes! It will be interesting for us to look at how the trip times are distributed. In order to do this, a new library will be introduced here, `matplotlib`. Run the cell below to load the library and to generate an example plot."
   ]
  },
  {
   "cell_type": "code",
   "execution_count": 119,
   "metadata": {},
   "outputs": [
    {
     "data": {
      "image/png": "[encoded data removed]",
      "text/plain": [
       "<matplotlib.figure.Figure at 0x7fcff0490ba8>"
      ]
     },
     "metadata": {},
     "output_type": "display_data"
    }
   ],
   "source": [
    "# load library\n",
    "import matplotlib.pyplot as plt\n",
    "\n",
    "# this is a 'magic word' that allows for plots to be displayed\n",
    "# inline with the notebook. If you want to know more, see:\n",
    "# http://ipython.readthedocs.io/en/stable/interactive/magics.html\n",
    "%matplotlib inline \n",
    "\n",
    "# example histogram, data taken from bay area sample\n",
    "data = [ 7.65,  8.92,  7.42,  5.50, 16.17,  4.20,  8.98,  9.62, 11.48, 14.33,\n",
    "        19.02, 21.53,  3.90,  7.97,  2.62,  2.67,  3.08, 14.40, 12.90,  7.83,\n",
    "        25.12,  8.30,  4.93, 12.43, 10.60,  6.17, 10.88,  4.78, 15.15,  3.53,\n",
    "         9.43, 13.32, 11.72,  9.85,  5.22, 15.10,  3.95,  3.17,  8.78,  1.88,\n",
    "         4.55, 12.68, 12.38,  9.78,  7.63,  6.45, 17.38, 11.90, 11.52,  8.63,]\n",
    "plt.hist(data)\n",
    "plt.title('Distribution of Trip Durations')\n",
    "plt.xlabel('Duration (m)')\n",
    "plt.show()"
   ]
  },
  {
   "cell_type": "markdown",
   "metadata": {},
   "source": [
    "In the above cell, we collected fifty trip times in a list, and passed this list as the first argument to the `.hist()` function. This function performs the computations and creates plotting objects for generating a histogram, but the plot is actually not rendered until the `.show()` function is executed. The `.title()` and `.xlabel()` functions provide some labeling for plot context.\n",
    "\n",
    "You will now use these functions to create a histogram of the trip times for the city you selected in question 4c. Don't separate the Subscribers and Customers for now: just collect all of the trip times and plot them."
   ]
  },
  {
   "cell_type": "code",
   "execution_count": 120,
   "metadata": {},
   "outputs": [
    {
     "data": {
      "image/png": "[encoded data removed]",
      "text/plain": [
       "<matplotlib.figure.Figure at 0x7fcfe958f438>"
      ]
     },
     "metadata": {},
     "output_type": "display_data"
    }
   ],
   "source": [
    "## Use this and additional cells to collect all of the trip times as a list ##\n",
    "## and then use pyplot functions to generate a histogram of trip times.     ##\n",
    "filename = './data/Washington-2016-Summary.csv'\n",
    "trip_time_list = []\n",
    "with open(filename, 'r') as f_in:\n",
    "    reader = csv.DictReader(f_in)\n",
    "        \n",
    "    for row in reader:\n",
    "        trip_time_list.append(round(float(row['duration']),2))\n",
    "plt.hist(trip_time_list)\n",
    "plt.xlabel('Duration(m)')\n",
    "plt.title('Distribution of trip durations in Washington')\n",
    "plt.show()\n"
   ]
  },
  {
   "cell_type": "markdown",
   "metadata": {},
   "source": [
    "If you followed the use of the `.hist()` and `.show()` functions exactly like in the example, you're probably looking at a plot that's completely unexpected. The plot consists of one extremely tall bar on the left, maybe a very short second bar, and a whole lot of empty space in the center and right. Take a look at the duration values on the x-axis. This suggests that there are some highly infrequent outliers in the data. Instead of reprocessing the data, you will use additional parameters with the `.hist()` function to limit the range of data that is plotted. Documentation for the function can be found [[here]](https://matplotlib.org/devdocs/api/_as_gen/matplotlib.pyplot.hist.html#matplotlib.pyplot.hist).\n",
    "\n",
    "**Question 5**: Use the parameters of the `.hist()` function to plot the distribution of trip times for the Subscribers in your selected city. Do the same thing for only the Customers. Add limits to the plots so that only trips of duration less than 75 minutes are plotted. As a bonus, set the plots up so that bars are in five-minute wide intervals. For each group, where is the peak of each distribution? How would you describe the shape of each distribution?\n",
    "\n",
    "**Answer**: In the city of Washington, the Customers' Trip duration distribution has a peak at 15 to 20 minutes and the subscribers' trip duration distribution has a peak at 5 to 10 minutes. Both the shapes are right skewed distribution. The mean will be greater than the media in each case because of the skewness in this case."
   ]
  },
  {
   "cell_type": "code",
   "execution_count": 121,
   "metadata": {},
   "outputs": [
    {
     "name": "stderr",
     "output_type": "stream",
     "text": [
      "/opt/conda/lib/python3.6/site-packages/matplotlib/figure.py:418: UserWarning: matplotlib is currently using a non-GUI backend, so cannot show the figure\n",
      "  \"matplotlib is currently using a non-GUI backend, \"\n"
     ]
    },
    {
     "data": {
      "image/png": "[encoded data removed]",
      "text/plain": [
       "<matplotlib.figure.Figure at 0x7fcfe91cf668>"
      ]
     },
     "metadata": {},
     "output_type": "display_data"
    },
    {
     "data": {
      "image/png": "[encoded data removed]",
      "text/plain": [
       "<matplotlib.figure.Figure at 0x7fcfe983dda0>"
      ]
     },
     "metadata": {},
     "output_type": "display_data"
    }
   ],
   "source": [
    "## Use this and additional cells to answer Question 5. ##\n",
    "\n",
    "filename = './data/Washington-2016-Summary.csv'\n",
    "cust_trip_time_list = []\n",
    "subs_trip_time_list = []\n",
    "with open(filename, 'r') as f_in:\n",
    "    reader = csv.DictReader(f_in)\n",
    "        \n",
    "    for row in reader:\n",
    "        if row['user_type'] == 'Customer':\n",
    "            cust_trip_time_list.append(round(float(row['duration']),2))\n",
    "        elif row['user_type'] == 'Subscriber':\n",
    "            subs_trip_time_list.append(round(float(row['duration']),2))\n",
    "        \n",
    "f = plt.figure(1)\n",
    "plt.hist(cust_trip_time_list,range = (0,75), bins = 15)\n",
    "plt.xlabel('Duration(m)')\n",
    "plt.title('DIstribution of trip duration for Customers in Washinton')\n",
    "\n",
    "f.show()\n",
    "g = plt.figure(2)\n",
    "plt.hist(subs_trip_time_list,range = (0,75), bins = 15,color = 'red')\n",
    "plt.xlabel('Duration(m)')\n",
    "plt.title('DIstribution of trip duration for Subscribers in Washinton')\n",
    "\n",
    "g.show()\n"
   ]
  },
  {
   "cell_type": "markdown",
   "metadata": {
    "collapsed": true
   },
   "source": [
    "<a id='eda_continued'></a>\n",
    "## Performing Your Own Analysis\n",
    "\n",
    "So far, you've performed an initial exploration into the data available. You have compared the relative volume of trips made between three U.S. cities and the ratio of trips made by Subscribers and Customers. For one of these cities, you have investigated differences between Subscribers and Customers in terms of how long a typical trip lasts. Now it is your turn to continue the exploration in a direction that you choose. Here are a few suggestions for questions to explore:\n",
    "\n",
    "- How does ridership differ by month or season? Which month / season has the highest ridership? Does the ratio of Subscriber trips to Customer trips change depending on the month or season?\n",
    "- Is the pattern of ridership different on the weekends versus weekdays? On what days are Subscribers most likely to use the system? What about Customers? Does the average duration of rides change depending on the day of the week?\n",
    "- During what time of day is the system used the most? Is there a difference in usage patterns for Subscribers and Customers?\n",
    "\n",
    "If any of the questions you posed in your answer to question 1 align with the bullet points above, this is a good opportunity to investigate one of them. As part of your investigation, you will need to create a visualization. If you want to create something other than a histogram, then you might want to consult the [Pyplot documentation](https://matplotlib.org/devdocs/api/pyplot_summary.html). In particular, if you are plotting values across a categorical variable (e.g. city, user type), a bar chart will be useful. The [documentation page for `.bar()`](https://matplotlib.org/devdocs/api/_as_gen/matplotlib.pyplot.bar.html#matplotlib.pyplot.bar) includes links at the bottom of the page with examples for you to build off of for your own use.\n",
    "\n",
    "**Question 6**: Continue the investigation by exploring another question that could be answered by the data available. Document the question you want to explore below. Your investigation should involve at least two variables and should compare at least two groups. You should also use at least one visualization as part of your explorations.\n",
    "\n",
    "**Answer**: 1.How does the ridership differ by month?-> Answer: The ridership is maximun in July(7341 customers) followed by June(7320 customers). The month with the lowest ridership is Jan(2434 customers). The months between June to Oct can be considered as the period in which Washingtons gets its peak ridership.<Br>\n",
    "            2.Which month has the highest ridership? -> Answer: The highest ridership is in the month of July with 7341 customers.<Br>\n",
    "            3.Does the ratio of Customers trips change depending on the month? -> Answer: The ratio does change. However the Subscriber ridership is always greater than the Customer ridership for all the months<Br>\n",
    "            \n",
    "            \n",
    "            \n",
    "common_monthly_ridership : <Br>\n",
    "2434, 2854, 5571, 5602, 5768, 7320, 7341, 7198, 6878, 6792, 5214, 3354<Br>\n",
    "cust_monthly_ridership: <Br>\n",
    "222, 283, 1188, 1192, 1248, 1707, 2186, 1806, 1674, 1560, 1075, 432<Br>\n",
    "subs_monthly_ridership: <Br>\n",
    "2212, 2571, 4383, 4410, 4520, 5613, 5155, 5392, 5204, 5232, 4139, 2922"
   ]
  },
  {
   "cell_type": "markdown",
   "metadata": {},
   "source": [
    "# Function Definitions"
   ]
  },
  {
   "cell_type": "code",
   "execution_count": 122,
   "metadata": {},
   "outputs": [],
   "source": [
    "def get_monthly_ridership(filename):\n",
    "    '''This function calculates the monthly ridership.\n",
    "    It takes the filename as a string input and returns three list that contains monthly ridership for each month\n",
    "    '''\n",
    "    common_mnth_ridership = [0] * 12\n",
    "    cust_mnth_ridership = [0] * 12\n",
    "    subs_mnth_ridership = [0] * 12\n",
    "    \n",
    "    #opens the file and reads the rows in the form of dictionary\n",
    "    with open(filename, 'r') as f_in:\n",
    "        reader = csv.DictReader(f_in)\n",
    "        \n",
    "        #calculates ridership for each row\n",
    "        for row in reader:\n",
    "            common_mnth_ridership[int(row['month']) - 1] += 1\n",
    "            if row['user_type'] == 'Customer':\n",
    "                cust_mnth_ridership[int(row['month']) - 1] += 1\n",
    "            elif row['user_type'] == 'Subscriber':\n",
    "                subs_mnth_ridership[int(row['month']) - 1] += 1\n",
    "    #returning the values\n",
    "    return common_mnth_ridership,cust_mnth_ridership,subs_mnth_ridership"
   ]
  },
  {
   "cell_type": "code",
   "execution_count": 123,
   "metadata": {},
   "outputs": [],
   "source": [
    "def single_graph(x_axis,y,title,x_axis_names,color = 'brown'):\n",
    "    '''\n",
    "    This function creates a single graph.\n",
    "    It gets x_axis - a list of integers\n",
    "    y - > list of integers\n",
    "    title -> string\n",
    "    x_axis_names - list of strings for ploting the xticks\n",
    "    color -> name of the color.: default = brown\n",
    "    '''\n",
    "    \n",
    "    #creating a figure\n",
    "    fig1 = plt.figure(figsize=(10,4))\n",
    "    #ploting the graph\n",
    "    plt.bar(x_axis,y,color = color)\n",
    "    plt.xticks(x_axis,x_axis_names)\n",
    "    plt.ylabel('No. of trips')\n",
    "    plt.xlabel('Months')\n",
    "    #displaying the values of each bar on the top of the bars\n",
    "    for x,y in zip(range(len(x_axis)),y):\n",
    "        plt.text(x+0.7,y,y)\n",
    "    plt.title(title)\n",
    "    fig1.show()\n"
   ]
  },
  {
   "cell_type": "code",
   "execution_count": 124,
   "metadata": {},
   "outputs": [],
   "source": [
    "def double_graph(x_axis,y1,y1_title,y2,y2_title,x_ticks,y2_color = 'red',y1_color = 'blue'):\n",
    "    '''\n",
    "    This function plots two graphs side-by-side\n",
    "    inputs: \n",
    "    It gets x_axis - a list of integers\n",
    "    y1 and y2 - > lists of integers\n",
    "    y1_title and y2_title -> strings for title of graph\n",
    "    x_axis_names - list of strings for ploting the xticks\n",
    "    y1_color and y2_color -> name of the color.: y1_color default = blue\n",
    "                                                 y2_color default = red\n",
    "    '''\n",
    "    \n",
    "    #creating a figure\n",
    "    fig = plt.figure(figsize=(13,4))\n",
    "    #ploting the 1st subplot in 1st row 1st column\n",
    "    plt.subplot(121)\n",
    "    plt.bar(x_axis,y1,color = y1_color)\n",
    "    plt.xticks(x_axis,x_ticks)\n",
    "    plt.ylabel('No. of trips')\n",
    "    plt.xlabel('Months')\n",
    "    #displaying the values on top of each bars\n",
    "    for x,y in zip(range(len(x_ticks)),y1):\n",
    "        plt.text(x+0.6,y,y)\n",
    "    plt.title(y1_title)\n",
    "\n",
    "    #ploting the 2nd subplot in 1st row 2nd column \n",
    "    plt.subplot(122)\n",
    "    plt.bar(x_axis,y2,color = y2_color)\n",
    "    plt.xticks(x_axis,x_ticks)\n",
    "    plt.ylabel('No. of trips')\n",
    "    plt.xlabel('Months')\n",
    "    plt.title(y2_title)\n",
    "    #displaying the values on top of each bars\n",
    "    for x,y in zip(range(len(x_ticks)),y2):\n",
    "        plt.text(x+0.6,y,y)\n",
    "    plt.tight_layout()\n",
    "    fig.show()\n"
   ]
  },
  {
   "cell_type": "code",
   "execution_count": 125,
   "metadata": {},
   "outputs": [],
   "source": [
    "def get_monthly_proportion(common,cust,subs):\n",
    "    '''\n",
    "    This function gets the proportion of custs and subs with respect to common for each values in common\n",
    "    input:\n",
    "    common,cust,subs -> list of integers\n",
    "    '''\n",
    "    cust_prop = []\n",
    "    subs_prop = []\n",
    "    for item in range(len(common)):\n",
    "        cust_prop.append(round((cust[item]/common[item]),2))\n",
    "        subs_prop.append(round((subs[item]/common[item]),2))\n",
    "    return cust_prop,subs_prop"
   ]
  },
  {
   "cell_type": "markdown",
   "metadata": {},
   "source": [
    "# Statistics"
   ]
  },
  {
   "cell_type": "code",
   "execution_count": 126,
   "metadata": {},
   "outputs": [
    {
     "name": "stdout",
     "output_type": "stream",
     "text": [
      "The Customers' proportion each month is: [0.09, 0.1, 0.21, 0.21, 0.22, 0.23, 0.3, 0.25, 0.24, 0.23, 0.21, 0.13] \n",
      "The Subscribers' proportion each month is: [0.91, 0.9, 0.79, 0.79, 0.78, 0.77, 0.7, 0.75, 0.76, 0.77, 0.79, 0.87] \n"
     ]
    }
   ],
   "source": [
    "## Use this and additional cells to continue to explore the dataset. ##\n",
    "## Once you have performed your exploration, document your findings  ##\n",
    "## in the Markdown cell above.                                       ##\n",
    "filename = './data/Washington-2016-Summary.csv'\n",
    "months = ['Jan','Feb','Mar','Apr','May','Jun','Jul','Aug','Sep','Oct','Nov','Dec']\n",
    "x_months = list(range(1,len(months) + 1))\n",
    "#get the monthly ridership details\n",
    "common_monthly_ridership,cust_monthly_ridership,subs_monthly_ridership = get_monthly_ridership(filename)\n",
    "\n",
    "#get the monthly proportion\n",
    "cust_monthly_proportion,subs_monthly_proportion = get_monthly_proportion(common_monthly_ridership,cust_monthly_ridership,subs_monthly_ridership)\n",
    "print(\"The Customers' proportion each month is: {} \\nThe Subscribers' proportion each month is: {} \".format(cust_monthly_proportion,subs_monthly_proportion))\n"
   ]
  },
  {
   "cell_type": "markdown",
   "metadata": {},
   "source": [
    "# Data Visualization"
   ]
  },
  {
   "cell_type": "code",
   "execution_count": 127,
   "metadata": {},
   "outputs": [
    {
     "name": "stderr",
     "output_type": "stream",
     "text": [
      "/opt/conda/lib/python3.6/site-packages/matplotlib/figure.py:418: UserWarning: matplotlib is currently using a non-GUI backend, so cannot show the figure\n",
      "  \"matplotlib is currently using a non-GUI backend, \"\n"
     ]
    },
    {
     "data": {
      "image/png": "[encoded data removed]",
      "text/plain": [
       "<matplotlib.figure.Figure at 0x7fcff002f908>"
      ]
     },
     "metadata": {},
     "output_type": "display_data"
    }
   ],
   "source": [
    "#Data Visualization\n",
    "single_graph(x_months,common_monthly_ridership,\"Overall monthly ridership distribution\",months)"
   ]
  },
  {
   "cell_type": "code",
   "execution_count": 128,
   "metadata": {},
   "outputs": [
    {
     "name": "stderr",
     "output_type": "stream",
     "text": [
      "/opt/conda/lib/python3.6/site-packages/matplotlib/figure.py:418: UserWarning: matplotlib is currently using a non-GUI backend, so cannot show the figure\n",
      "  \"matplotlib is currently using a non-GUI backend, \"\n"
     ]
    },
    {
     "data": {
      "image/png": "[encoded data removed]",
      "text/plain": [
       "<matplotlib.figure.Figure at 0x7fcfe9175080>"
      ]
     },
     "metadata": {},
     "output_type": "display_data"
    }
   ],
   "source": [
    "double_graph(x_months,cust_monthly_ridership,\"Monthly ridership distribution of Customers\",subs_monthly_ridership,\"Monthly ridership distribution of Subscribers\",months)"
   ]
  },
  {
   "cell_type": "markdown",
   "metadata": {},
   "source": [
    "<a id='conclusions'></a>\n",
    "## Conclusions\n",
    "\n",
    "Congratulations on completing the project! This is only a sampling of the data analysis process: from generating questions, wrangling the data, and to exploring the data. Normally, at this point in the data analysis process, you might want to draw conclusions about the data by performing a statistical test or fitting the data to a model for making predictions. There are also a lot of potential analyses that could be performed on the data which are not possible with only the data provided. For example, detailed location data has not been investigated. Where are the most commonly used docks? What are the most common routes? As another example, weather has potential to have a large impact on daily ridership. How much is ridership impacted when there is rain or snow? Are subscribers or customers affected more by changes in weather?\n",
    "\n",
    "**Question 7**: Putting the bike share data aside, think of a topic or field of interest where you would like to be able to apply the techniques of data science. What would you like to be able to learn from your chosen subject?\n",
    "\n",
    "**Answer**: I would like to apply the data science technique in the field of healthcare where we can build a model which can prdictict if a person has higher chance or not for being affected by any particular decease in future based on some test reports or metrics. This can help detect any deadly deceases in its early phases.\n",
    "\n",
    "> **Tip**: If we want to share the results of our analysis with others, we aren't limited to giving them a copy of the jupyter Notebook (.ipynb) file. We can also export the Notebook output in a form that can be opened even for those without Python installed. From the **File** menu in the upper left, go to the **Download as** submenu. You can then choose a different format that can be viewed more generally, such as HTML (.html) or\n",
    "PDF (.pdf). You may need additional packages or software to perform these exports.\n",
    "\n",
    "> If you are working on this project via the Project Notebook page in the classroom, you can also submit this project directly from the workspace. **Before you do that**, you should save an HTML copy of the completed project to the workspace by running the code cell below. If it worked correctly, the output code should be a 0, and if you click on the jupyter icon in the upper left, you should see your .html document in the workspace directory. Alternatively, you can download the .html copy of your report following the steps in the previous paragraph, then _upload_ the report to the directory (by clicking the jupyter icon).\n",
    "\n",
    "> Either way, once you've gotten the .html report in your workspace, you can complete your submission by clicking on the \"Submit Project\" button to the lower-right hand side of the workspace."
   ]
  },
  {
   "cell_type": "code",
   "execution_count": null,
   "metadata": {
    "collapsed": true
   },
   "outputs": [],
   "source": [
    "from subprocess import call\n",
    "call(['python', '-m', 'nbconvert', 'Bike_Share_Analysis.ipynb'])"
   ]
  }
 ],
 "metadata": {
  "anaconda-cloud": {},
  "kernelspec": {
   "display_name": "Python 3",
   "language": "python",
   "name": "python3"
  },
  "language_info": {
   "codemirror_mode": {
    "name": "ipython",
    "version": 3
   },
   "file_extension": ".py",
   "mimetype": "text/x-python",
   "name": "python",
   "nbconvert_exporter": "python",
   "pygments_lexer": "ipython3",
   "version": "3.6.3"
  }
 },
 "nbformat": 4,
 "nbformat_minor": 1
}
