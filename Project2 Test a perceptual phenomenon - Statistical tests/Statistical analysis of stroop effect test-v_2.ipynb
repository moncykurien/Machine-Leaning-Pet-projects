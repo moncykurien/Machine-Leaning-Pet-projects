{
 "cells": [
  {
   "cell_type": "markdown",
   "metadata": {},
   "source": [
    "#                                        # Test a Perceptual Phenomenon"
   ]
  },
  {
   "cell_type": "markdown",
   "metadata": {},
   "source": [
    "# Statistics: The Science of Decisions Project Instructions\n",
    "<h3>Background Information</h3><Br>\n",
    "In a Stroop task, participants are presented with a list of words, with each word displayed in a color of ink. The participant’s task is to say out loud the color of the ink in which the word is printed. The task has two conditions: a congruent words condition, and an incongruent words condition. In the congruent words condition, the words being displayed are color words whose names match the colors in which they are printed: for example RED, BLUE. In the incongruent words condition, the words displayed are color words whose names do not match the colors in which they are printed: for example PURPLE, ORANGE. In each case, we measure the time it takes to name the ink colors in equally-sized lists. Each participant will go through and record a time from each condition."
   ]
  },
  {
   "cell_type": "markdown",
   "metadata": {},
   "source": [
    "<h2>Stroop Effect samples</h2>\n",
    "<div style=\"background:#f9f9f9;border:1px solid #678;padding:1em;margin:0 0 1em 1em;\">\n",
    "<B>Congruent</B>\n",
    "<p><b><span style=\"color:green\">Green</span> <span style=\"color:red\">Red</span> <span style=\"color:blue\">Blue</span><br>\n",
    "<span style=\"color:purple\">Purple</span> <span style=\"color:red\">Red</span> <span style=\"color:purple\">Purple</span></b></p>\n",
    "<hr>\n",
    "<B>Incongruent</B>\n",
    "<p><b><span style=\"color:red\">Green</span> <span style=\"color:green\">Red</span> <span style=\"color:purple\">Blue</span><br>\n",
    "<span style=\"color:green\">Purple</span> <span style=\"color:blue\">Red</span> <span style=\"color:red\">Purple</span></b></p>\n",
    "<hr>\n",
    "<p>Naming the font color of a printed word is an easier and quicker task if word meaning and font color are not incongruent. If both are printed in red, the average time to say \"RED\" in response to the word 'Green' in red color is greater than the time to say \"RED\" in response to the word 'RED' in red color.</p>\n",
    "</div>"
   ]
  },
  {
   "cell_type": "markdown",
   "metadata": {},
   "source": [
    "<h1>Questions For Investigation</h1><br>\n",
    "As a general note, be sure to keep a record of any resources that you use or refer to in the creation of your project. You will need to report your sources as part of the project submission.\n",
    "\n",
    "1. What is our independent variable? What is our dependent variable?\n",
    "\n",
    "2. What is an appropriate set of hypotheses for this task? What kind of statistical test do you expect to perform? Justify your choices.\n",
    "\n",
    "3. Report some descriptive statistics regarding this dataset. Include at least one measure of central tendency and at least one measure of variability.\n",
    "\n",
    "4. Provide one or two visualizations that show the distribution of the sample data. Write one or two sentences noting what you observe about the plot or plots.\n",
    "\n",
    "5. Now, perform the statistical test and report your results. What is your confidence level and your critical statistic value? Do you reject the null hypothesis or fail to reject it? Come to a conclusion in terms of the experiment task. Did the results match up with your expectations?\n",
    "\n",
    "6. Optional: What do you think is responsible for the effects observed? Can you think of an alternative or similar task that would result in a similar effect? Some research about the problem will be helpful for thinking about these two questions!"
   ]
  },
  {
   "cell_type": "markdown",
   "metadata": {},
   "source": [
    "<h1>Statistical Analysis,tests and answers to the questions:</h1>"
   ]
  },
  {
   "cell_type": "code",
   "execution_count": 1,
   "metadata": {
    "collapsed": true
   },
   "outputs": [],
   "source": [
    "#Importing libraries\n",
    "import pandas as pd\n",
    "import numpy as np\n",
    "import matplotlib.pyplot as plt\n",
    "from math import *\n",
    "from scipy import stats"
   ]
  },
  {
   "cell_type": "markdown",
   "metadata": {},
   "source": [
    "Importing the data for analysis"
   ]
  },
  {
   "cell_type": "code",
   "execution_count": 2,
   "metadata": {},
   "outputs": [
    {
     "data": {
      "text/html": [
       "<div>\n",
       "<style>\n",
       "    .dataframe thead tr:only-child th {\n",
       "        text-align: right;\n",
       "    }\n",
       "\n",
       "    .dataframe thead th {\n",
       "        text-align: left;\n",
       "    }\n",
       "\n",
       "    .dataframe tbody tr th {\n",
       "        vertical-align: top;\n",
       "    }\n",
       "</style>\n",
       "<table border=\"1\" class=\"dataframe\">\n",
       "  <thead>\n",
       "    <tr style=\"text-align: right;\">\n",
       "      <th></th>\n",
       "      <th>Congruent</th>\n",
       "      <th>Incongruent</th>\n",
       "    </tr>\n",
       "  </thead>\n",
       "  <tbody>\n",
       "    <tr>\n",
       "      <th>0</th>\n",
       "      <td>12.079</td>\n",
       "      <td>19.278</td>\n",
       "    </tr>\n",
       "    <tr>\n",
       "      <th>1</th>\n",
       "      <td>16.791</td>\n",
       "      <td>18.741</td>\n",
       "    </tr>\n",
       "    <tr>\n",
       "      <th>2</th>\n",
       "      <td>9.564</td>\n",
       "      <td>21.214</td>\n",
       "    </tr>\n",
       "    <tr>\n",
       "      <th>3</th>\n",
       "      <td>8.630</td>\n",
       "      <td>15.687</td>\n",
       "    </tr>\n",
       "    <tr>\n",
       "      <th>4</th>\n",
       "      <td>14.669</td>\n",
       "      <td>22.803</td>\n",
       "    </tr>\n",
       "  </tbody>\n",
       "</table>\n",
       "</div>"
      ],
      "text/plain": [
       "   Congruent  Incongruent\n",
       "0     12.079       19.278\n",
       "1     16.791       18.741\n",
       "2      9.564       21.214\n",
       "3      8.630       15.687\n",
       "4     14.669       22.803"
      ]
     },
     "execution_count": 2,
     "metadata": {},
     "output_type": "execute_result"
    }
   ],
   "source": [
    "df = pd.read_csv(\"./data/stroopdata.csv\")\n",
    "df.head()"
   ]
  },
  {
   "cell_type": "markdown",
   "metadata": {},
   "source": [
    "<h4>1. Independent variable and Dependent variable</h4><br>\n",
    "<B>Dependant Variable:</B> The dependant variable is the time taken by the participant to respond in seconds.<br>\n",
    "<B>Independant Variable:</B> The independant variable is the word condition(Congruent or Incongruent)."
   ]
  },
  {
   "cell_type": "markdown",
   "metadata": {},
   "source": [
    "<h3>2. Hypotheses</h3><br>\n",
    "<B>Null Hypotheses: </B>The null hypotheses is that there is no change in the response time in recognizing the congruent words vs the response time in recognizing the incongruent words. <B>(µc = µi)</B> or <B>(µc - µi = 0)</B>.<br>\n",
    "µc - > mean time for the population of Congruent condition.<br>\n",
    "µi - > mean time for the population of Incongruent condition.<br>\n",
    "mean time for the population of Congruent condition and mean time for the population of Incongruent condition are same.<br>\n",
    "<B>Alternative Hypotheses: </B>The alternative hypotheses is that there is a significant difference in the response time in recognizing the congruent words vs the response time in recognizing the incongruent words. That is the reponse time would have either increased or decreased significantly. <B>(µc ≠ µi)</B> or <B>(µc - µi ≠ 0)</B>.<br>\n",
    "µc - > mean time for the population of Congruent condition.<br>\n",
    "µi - > mean time for the population of Incongruent condition.<br>\n",
    "mean time for the population of Congruent condition and mean time for the population of Incongruent condition are different.<br>\n",
    "<B>Kind of statistical test: </B>I would perform a Dependant Sample t-Test on the data. This is because there is no population parameters available. We only have the sample data. Which does not fit a z-test. So I am opting the t-test for this analysis.<br>Since the data is collected by performing the same experiment in two different conditions, there is a chance of carryover effect. So the different conditions can be considered as dependant.<br>\n",
    "<b>Assumptions:</b><br>\n",
    "-> We assume that the distribution of mean difference is normal.<br>\n",
    "-> The two samples are dependant.<br>\n",
    "-> We do not know the population mean and population standard deviation.<br>\n",
    "-> The sampling is random.<br>\n",
    "-> The differences are of measurement variable and hence paired t-test can be performed.<br>\n",
    "-> Pairs of observations are independant(individual observations are not independant).\n"
   ]
  },
  {
   "cell_type": "markdown",
   "metadata": {
    "collapsed": true
   },
   "source": [
    "<h4>3. Descriptive statistics. Measure of central tendency and measure of variability.</h4>"
   ]
  },
  {
   "cell_type": "markdown",
   "metadata": {},
   "source": [
    "<h4>Descriptive Statistics:</h4>"
   ]
  },
  {
   "cell_type": "code",
   "execution_count": 3,
   "metadata": {},
   "outputs": [
    {
     "data": {
      "text/html": [
       "<div>\n",
       "<style>\n",
       "    .dataframe thead tr:only-child th {\n",
       "        text-align: right;\n",
       "    }\n",
       "\n",
       "    .dataframe thead th {\n",
       "        text-align: left;\n",
       "    }\n",
       "\n",
       "    .dataframe tbody tr th {\n",
       "        vertical-align: top;\n",
       "    }\n",
       "</style>\n",
       "<table border=\"1\" class=\"dataframe\">\n",
       "  <thead>\n",
       "    <tr style=\"text-align: right;\">\n",
       "      <th></th>\n",
       "      <th>Congruent</th>\n",
       "      <th>Incongruent</th>\n",
       "    </tr>\n",
       "  </thead>\n",
       "  <tbody>\n",
       "    <tr>\n",
       "      <th>count</th>\n",
       "      <td>24.000000</td>\n",
       "      <td>24.000000</td>\n",
       "    </tr>\n",
       "    <tr>\n",
       "      <th>mean</th>\n",
       "      <td>14.051125</td>\n",
       "      <td>22.015917</td>\n",
       "    </tr>\n",
       "    <tr>\n",
       "      <th>std</th>\n",
       "      <td>3.559358</td>\n",
       "      <td>4.797057</td>\n",
       "    </tr>\n",
       "    <tr>\n",
       "      <th>min</th>\n",
       "      <td>8.630000</td>\n",
       "      <td>15.687000</td>\n",
       "    </tr>\n",
       "    <tr>\n",
       "      <th>25%</th>\n",
       "      <td>11.895250</td>\n",
       "      <td>18.716750</td>\n",
       "    </tr>\n",
       "    <tr>\n",
       "      <th>50%</th>\n",
       "      <td>14.356500</td>\n",
       "      <td>21.017500</td>\n",
       "    </tr>\n",
       "    <tr>\n",
       "      <th>75%</th>\n",
       "      <td>16.200750</td>\n",
       "      <td>24.051500</td>\n",
       "    </tr>\n",
       "    <tr>\n",
       "      <th>max</th>\n",
       "      <td>22.328000</td>\n",
       "      <td>35.255000</td>\n",
       "    </tr>\n",
       "  </tbody>\n",
       "</table>\n",
       "</div>"
      ],
      "text/plain": [
       "       Congruent  Incongruent\n",
       "count  24.000000    24.000000\n",
       "mean   14.051125    22.015917\n",
       "std     3.559358     4.797057\n",
       "min     8.630000    15.687000\n",
       "25%    11.895250    18.716750\n",
       "50%    14.356500    21.017500\n",
       "75%    16.200750    24.051500\n",
       "max    22.328000    35.255000"
      ]
     },
     "execution_count": 3,
     "metadata": {},
     "output_type": "execute_result"
    }
   ],
   "source": [
    "#This give all the statistical descriptions abont the data.\n",
    "df.describe()"
   ]
  },
  {
   "cell_type": "code",
   "execution_count": 4,
   "metadata": {
    "collapsed": true
   },
   "outputs": [],
   "source": [
    "#separating the congruent and incongruent datasets\n",
    "congruent_sample_data = df['Congruent']\n",
    "incongruent_sample_data = df['Incongruent']"
   ]
  },
  {
   "cell_type": "markdown",
   "metadata": {},
   "source": [
    "<B>Central Tendency</B>"
   ]
  },
  {
   "cell_type": "code",
   "execution_count": 6,
   "metadata": {},
   "outputs": [
    {
     "name": "stdout",
     "output_type": "stream",
     "text": [
      "Central Tendencies:\n",
      "Congruent sample mean: 14.05 Incongruent sample mean: 22.02\n",
      "Congruent sample median: 14.36 Incongruent sample median: 21.02\n"
     ]
    }
   ],
   "source": [
    "#getting the means and medians of the datasets - Central Tendency\n",
    "con_mean = round(congruent_sample_data.mean(),2)\n",
    "incon_mean = round(incongruent_sample_data.mean(),2)\n",
    "con_median = round(congruent_sample_data.median(),2)\n",
    "incon_median = round(incongruent_sample_data.median(),2)\n",
    "\n",
    "print(\"Central Tendencies:\")\n",
    "print(\"Congruent sample mean: \"+str(con_mean)+\" \"+\"Incongruent sample mean: \"+str(incon_mean))\n",
    "print(\"Congruent sample median: \"+str(con_median)+\" Incongruent sample median: \"+str(incon_median))"
   ]
  },
  {
   "cell_type": "markdown",
   "metadata": {},
   "source": [
    "<B>Measure of Variability</B>"
   ]
  },
  {
   "cell_type": "code",
   "execution_count": 7,
   "metadata": {},
   "outputs": [
    {
     "name": "stdout",
     "output_type": "stream",
     "text": [
      "Congruent Standard Deviation: 3.56. Incongruent Standard Deviation: 4.8\n"
     ]
    }
   ],
   "source": [
    "#getting the standard deviations - measure of variability\n",
    "con_std = round(congruent_sample_data.std(),2)\n",
    "incon_std = round(incongruent_sample_data.std(),2)\n",
    "print(\"Congruent Standard Deviation: \"+str(con_std)+\". Incongruent Standard Deviation: \"+str(incon_std))"
   ]
  },
  {
   "cell_type": "markdown",
   "metadata": {},
   "source": [
    "<h4>4. Data Visualizations:</h4>"
   ]
  },
  {
   "cell_type": "code",
   "execution_count": 17,
   "metadata": {
    "scrolled": true
   },
   "outputs": [
    {
     "data": {
      "image/png": "[encoded data removed]",
      "text/plain": [
       "<matplotlib.figure.Figure at 0xcd9fcd0>"
      ]
     },
     "metadata": {},
     "output_type": "display_data"
    }
   ],
   "source": [
    "%matplotlib inline\n",
    "Y = df['Congruent']\n",
    "Z = df['Incongruent']\n",
    "n = len(Y)\n",
    "X = np.arange(1,n+1)\n",
    "\n",
    "fig = plt.figure(figsize=(20,8))\n",
    "ax = fig.add_subplot(111)\n",
    "\n",
    "for xy in zip(X, Y):                                       \n",
    "    ax.annotate('(%s, %s)' % xy, xy=xy, textcoords='data')\n",
    "plt.scatter(X,Y, s=100)\n",
    "\n",
    "\n",
    "for xz in zip(X, Z):                                       \n",
    "    ax.annotate('(%s, %s)' % xz, xy=xz, textcoords='data')\n",
    "plt.scatter(X,Z,s=100)\n",
    "\n",
    "\n",
    "plt.title('Congruent Vs Incongruent - Scattered')\n",
    "plt.xlabel(\"Sample subjects in the experiment\")\n",
    "plt.xticks(X)\n",
    "plt.legend(['Congruent line','Incongruent line','Congruent datapoint','Incongruent datapoint'])\n",
    "plt.ylabel(\"Response time in seconds\")\n",
    "plt.show()"
   ]
  },
  {
   "cell_type": "markdown",
   "metadata": {},
   "source": [
    "<b>The scatter plot above shows that the Response time taken during the Incongruent condition is always greater than the Response time taken during the congruent condition for each subject. The highest response time of Incongruent sample is for subject #15 and the time is 35.255 and the highest response time for the Congruent condition sample is suject #11 and the time is 22.328s.</b>"
   ]
  },
  {
   "cell_type": "code",
   "execution_count": 25,
   "metadata": {
    "scrolled": true
   },
   "outputs": [
    {
     "data": {
      "image/png": "[encoded data removed]",
      "text/plain": [
       "<matplotlib.figure.Figure at 0xba3bb70>"
      ]
     },
     "metadata": {},
     "output_type": "display_data"
    }
   ],
   "source": [
    "plt.title('Congruent Vs Incongruent distribution plot')\n",
    "plt.xlabel('Response time in seconds')\n",
    "plt.ylabel('frequency of the time range in the dataset')\n",
    "plt.hist(Y,bins = 10,alpha = 0.5, label = 'Congruent data')\n",
    "plt.hist(Z,bins = 10,alpha = 0.5, label = 'Incongruent data')\n",
    "plt.legend()\n",
    "plt.show()"
   ]
  },
  {
   "cell_type": "markdown",
   "metadata": {},
   "source": [
    "<b>The above plot shows the distribution of Congruent and Incongruent response times for each subjects. The central tendencies are different for the congruent and incongruent samples.The lowest datapoint of Incongruent condition sample seem to fall after the mean of Congruent sample. There is an outlier in the Incongruent sample datapoints.</b>"
   ]
  },
  {
   "cell_type": "code",
   "execution_count": 41,
   "metadata": {
    "scrolled": true
   },
   "outputs": [
    {
     "data": {
      "image/png": "[encoded data removed]",
      "text/plain": [
       "<matplotlib.figure.Figure at 0x3217ad0>"
      ]
     },
     "metadata": {},
     "output_type": "display_data"
    }
   ],
   "source": [
    "\n",
    "data = [df['Congruent'],df['Incongruent']]\n",
    "labels = ['congruent','incongruent']\n",
    "plt.title('Congruent Vs Incongruent - Quartiles')\n",
    "plt.boxplot(data,0,'gD')\n",
    "plt.xlabel('Conditions')\n",
    "plt.ylabel('Response time')\n",
    "plt.xticks([1,2],labels)\n",
    "plt.show()"
   ]
  },
  {
   "cell_type": "markdown",
   "metadata": {},
   "source": [
    "<B>The box plots above shows where the quartiles fall for Congruent sample data when conpared to Incongruent sample data. From the graph above we can learn that 100% of incongruent sample data are greater than first two quartiles of the Congruent sample data. There are outliers in Incongruent sample.</B>"
   ]
  },
  {
   "cell_type": "markdown",
   "metadata": {},
   "source": [
    "<h4>5. Statistical Test(t-test)</h4>"
   ]
  },
  {
   "cell_type": "code",
   "execution_count": 42,
   "metadata": {},
   "outputs": [
    {
     "data": {
      "text/plain": [
       "24"
      ]
     },
     "execution_count": 42,
     "metadata": {},
     "output_type": "execute_result"
    }
   ],
   "source": [
    "#length of dataset\n",
    "n = len(df)\n",
    "n"
   ]
  },
  {
   "cell_type": "code",
   "execution_count": 43,
   "metadata": {
    "collapsed": true
   },
   "outputs": [],
   "source": [
    "#degree of freedom\n",
    "degree_freedom = n-1"
   ]
  },
  {
   "cell_type": "code",
   "execution_count": 44,
   "metadata": {
    "collapsed": true
   },
   "outputs": [],
   "source": [
    "#Sample Difference\n",
    "df['difference'] = df['Incongruent'] - df['Congruent']"
   ]
  },
  {
   "cell_type": "code",
   "execution_count": 45,
   "metadata": {},
   "outputs": [
    {
     "data": {
      "text/html": [
       "<div>\n",
       "<style>\n",
       "    .dataframe thead tr:only-child th {\n",
       "        text-align: right;\n",
       "    }\n",
       "\n",
       "    .dataframe thead th {\n",
       "        text-align: left;\n",
       "    }\n",
       "\n",
       "    .dataframe tbody tr th {\n",
       "        vertical-align: top;\n",
       "    }\n",
       "</style>\n",
       "<table border=\"1\" class=\"dataframe\">\n",
       "  <thead>\n",
       "    <tr style=\"text-align: right;\">\n",
       "      <th></th>\n",
       "      <th>Congruent</th>\n",
       "      <th>Incongruent</th>\n",
       "      <th>difference</th>\n",
       "    </tr>\n",
       "  </thead>\n",
       "  <tbody>\n",
       "    <tr>\n",
       "      <th>0</th>\n",
       "      <td>12.079</td>\n",
       "      <td>19.278</td>\n",
       "      <td>7.199</td>\n",
       "    </tr>\n",
       "    <tr>\n",
       "      <th>1</th>\n",
       "      <td>16.791</td>\n",
       "      <td>18.741</td>\n",
       "      <td>1.950</td>\n",
       "    </tr>\n",
       "    <tr>\n",
       "      <th>2</th>\n",
       "      <td>9.564</td>\n",
       "      <td>21.214</td>\n",
       "      <td>11.650</td>\n",
       "    </tr>\n",
       "    <tr>\n",
       "      <th>3</th>\n",
       "      <td>8.630</td>\n",
       "      <td>15.687</td>\n",
       "      <td>7.057</td>\n",
       "    </tr>\n",
       "    <tr>\n",
       "      <th>4</th>\n",
       "      <td>14.669</td>\n",
       "      <td>22.803</td>\n",
       "      <td>8.134</td>\n",
       "    </tr>\n",
       "  </tbody>\n",
       "</table>\n",
       "</div>"
      ],
      "text/plain": [
       "   Congruent  Incongruent  difference\n",
       "0     12.079       19.278       7.199\n",
       "1     16.791       18.741       1.950\n",
       "2      9.564       21.214      11.650\n",
       "3      8.630       15.687       7.057\n",
       "4     14.669       22.803       8.134"
      ]
     },
     "execution_count": 45,
     "metadata": {},
     "output_type": "execute_result"
    }
   ],
   "source": [
    "df.head()"
   ]
  },
  {
   "cell_type": "code",
   "execution_count": 46,
   "metadata": {},
   "outputs": [
    {
     "data": {
      "text/plain": [
       "7.96"
      ]
     },
     "execution_count": 46,
     "metadata": {},
     "output_type": "execute_result"
    }
   ],
   "source": [
    "#Point Estimation(The mean difference)\n",
    "point_est = round(df['difference'].mean(),2)\n",
    "point_est"
   ]
  },
  {
   "cell_type": "code",
   "execution_count": 47,
   "metadata": {},
   "outputs": [
    {
     "data": {
      "text/plain": [
       "0   -0.761\n",
       "1   -6.010\n",
       "2    3.690\n",
       "3   -0.903\n",
       "4    0.174\n",
       "Name: difference, dtype: float64"
      ]
     },
     "execution_count": 47,
     "metadata": {},
     "output_type": "execute_result"
    }
   ],
   "source": [
    "dev_from_mean = df['difference'] - point_est\n",
    "dev_from_mean.head()"
   ]
  },
  {
   "cell_type": "code",
   "execution_count": 48,
   "metadata": {},
   "outputs": [
    {
     "data": {
      "text/plain": [
       "0     0.579121\n",
       "1    36.120100\n",
       "2    13.616100\n",
       "3     0.815409\n",
       "4     0.030276\n",
       "Name: Squared_deviation, dtype: float64"
      ]
     },
     "execution_count": 48,
     "metadata": {},
     "output_type": "execute_result"
    }
   ],
   "source": [
    "df['Squared_deviation'] = dev_from_mean * dev_from_mean\n",
    "df['Squared_deviation'].head()"
   ]
  },
  {
   "cell_type": "code",
   "execution_count": 49,
   "metadata": {},
   "outputs": [
    {
     "data": {
      "text/plain": [
       "544.3309910000003"
      ]
     },
     "execution_count": 49,
     "metadata": {},
     "output_type": "execute_result"
    }
   ],
   "source": [
    "#Sum of Squared deviations\n",
    "sum_sqrd_dev = df['Squared_deviation'].sum()\n",
    "sum_sqrd_dev "
   ]
  },
  {
   "cell_type": "code",
   "execution_count": 50,
   "metadata": {},
   "outputs": [
    {
     "data": {
      "text/plain": [
       "23.66656482608697"
      ]
     },
     "execution_count": 50,
     "metadata": {},
     "output_type": "execute_result"
    }
   ],
   "source": [
    "#Variance\n",
    "var = sum_sqrd_dev / degree_freedom\n",
    "var"
   ]
  },
  {
   "cell_type": "code",
   "execution_count": 51,
   "metadata": {},
   "outputs": [
    {
     "data": {
      "text/plain": [
       "4.86"
      ]
     },
     "execution_count": 51,
     "metadata": {},
     "output_type": "execute_result"
    }
   ],
   "source": [
    "#Standard Error from Mean\n",
    "sem = round(sqrt(var),2)\n",
    "sem"
   ]
  },
  {
   "cell_type": "code",
   "execution_count": 52,
   "metadata": {},
   "outputs": [
    {
     "data": {
      "text/plain": [
       "8.0238"
      ]
     },
     "execution_count": 52,
     "metadata": {},
     "output_type": "execute_result"
    }
   ],
   "source": [
    "#t - statistics = Point estimate/ (Standard Error from Mean/SQRT(size of dataset))\n",
    "ts = round((point_est) / (sem/sqrt(n)),4)\n",
    "ts"
   ]
  },
  {
   "cell_type": "code",
   "execution_count": 53,
   "metadata": {},
   "outputs": [
    {
     "data": {
      "text/plain": [
       "'2.07'"
      ]
     },
     "execution_count": 53,
     "metadata": {},
     "output_type": "execute_result"
    }
   ],
   "source": [
    "#t - critical value for alpha level = 0.05 and smaple size 24 for a two tailed test\n",
    "tc = stats.t.isf(0.025, degree_freedom)\n",
    "format(tc,'.2f')"
   ]
  },
  {
   "cell_type": "markdown",
   "metadata": {},
   "source": [
    "<h3>CONCLUSION</h3>"
   ]
  },
  {
   "cell_type": "code",
   "execution_count": 54,
   "metadata": {},
   "outputs": [
    {
     "name": "stdout",
     "output_type": "stream",
     "text": [
      "Reject Hypotheses since the t-statistics falls in the critical region. \n",
      "The t-statistics is 8.02 and t-critical value is 2.07\n"
     ]
    }
   ],
   "source": [
    "if(ts>0):\n",
    "    if(tc < ts):\n",
    "        print(\"Reject Hypotheses since the t-statistics falls in the critical region. \\nThe t-statistics is \"+str(format(ts,'.2f'))+\" and t-critical value is \"+str(format(tc,'.2f')))\n",
    "    else:\n",
    "        print(\"Failed to reject hypotheses since t-statistics since it does not fall in the critical region.\")"
   ]
  },
  {
   "cell_type": "markdown",
   "metadata": {},
   "source": [
    "<B>CONCLUSION:<br>Since the t-statistics value falls within the critical region with alpha level 0.05 in a two tailed t-test, we can conclude that the sample data is not by chance and we can Reject the Null Hypotheses</B>"
   ]
  },
  {
   "cell_type": "code",
   "execution_count": 55,
   "metadata": {},
   "outputs": [
    {
     "data": {
      "text/plain": [
       "'2.05'"
      ]
     },
     "execution_count": 55,
     "metadata": {},
     "output_type": "execute_result"
    }
   ],
   "source": [
    "#Margin of Error = t-critical / (Standard error of mean / SQRT(sample size))\n",
    "moe = tc*(sem/sqrt(n))\n",
    "format(moe,'.2f')\n"
   ]
  },
  {
   "cell_type": "markdown",
   "metadata": {},
   "source": [
    "<B>Confidence Interval</B>"
   ]
  },
  {
   "cell_type": "code",
   "execution_count": 56,
   "metadata": {},
   "outputs": [
    {
     "name": "stdout",
     "output_type": "stream",
     "text": [
      "The Confidence Interval is: ('5.91', '10.01')\n"
     ]
    }
   ],
   "source": [
    "#Critical Interval\n",
    "LI = point_est - moe\n",
    "UI = point_est + moe\n",
    "CI = (format(LI,'.2f'),format(UI,'.2f'))\n",
    "print(\"The Confidence Interval is: \"+str(CI))"
   ]
  },
  {
   "cell_type": "markdown",
   "metadata": {},
   "source": [
    "<h2>The Cause of stroop effect</h2><br>\n",
    "The interference between different information the brain receives is causing a problem. There are two theories that may explain the Stroop effect:<br>\n",
    "1. Speed of Processing Theory: the interference occurs because words are read faster than colors are named.<br>\n",
    "2. Selective Attention Theory: the interference occurs because naming colors requires more attention than reading words.<br><br>\n",
    "ref: https://faculty.washington.edu/chudler/words.html"
   ]
  },
  {
   "cell_type": "markdown",
   "metadata": {},
   "source": [
    "<h3>Other similar tasks:</h3><br>\n",
    "Some of the similar tasks like stroop effect are:<br>1. Simon Effect<br>2. The Flanker task<br>3. Cross-Modal Tasks, etc.,<br>\n",
    "resource: wikipeadia"
   ]
  }
 ],
 "metadata": {
  "kernelspec": {
   "display_name": "Python 3",
   "language": "python",
   "name": "python3"
  },
  "language_info": {
   "codemirror_mode": {
    "name": "ipython",
    "version": 3
   },
   "file_extension": ".py",
   "mimetype": "text/x-python",
   "name": "python",
   "nbconvert_exporter": "python",
   "pygments_lexer": "ipython3",
   "version": "3.6.3"
  }
 },
 "nbformat": 4,
 "nbformat_minor": 2
}
